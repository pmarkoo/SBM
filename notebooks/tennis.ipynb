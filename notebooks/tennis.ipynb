{
 "cells": [
  {
   "attachments": {},
   "cell_type": "markdown",
   "metadata": {},
   "source": [
    "# Scalable Bayesian Modeling\n",
    "\n",
    "[![Open in Colab](https://colab.research.google.com/assets/colab-badge.svg)](https://colab.research.google.com/github/symeneses/SBM/blob/main/notebooks/tennis.ipynb)"
   ]
  },
  {
   "cell_type": "code",
   "execution_count": null,
   "metadata": {},
   "outputs": [],
   "source": [
    "# Execute only if executing in Google Colab\n",
    "# !rm -r ./src\n",
    "# !rm -r ./data\n",
    "# !git clone https://github.com/symeneses/SBM\n",
    "# !mv ./SBM/src ./src\n",
    "# !mv ./SBM/data ./data\n",
    "# !rm -r ./SBM\n",
    "# !pip install --upgrade pip\n",
    "# !pip install --upgrade numpyro==0.11.0 pymc==5.0.2 blackjax==0.9.6 seaborn"
   ]
  },
  {
   "attachments": {},
   "cell_type": "markdown",
   "metadata": {},
   "source": [
    "This use case is based on the Blog Post: [MCMC for big datasets](https://num.pyro.ai/en/stable/tutorials/bayesian_hierarchical_linear_regression.html](https://martiningram.github.io/mcmc-comparison/))."
   ]
  },
  {
   "cell_type": "code",
   "execution_count": 1,
   "metadata": {},
   "outputs": [],
   "source": [
    "%load_ext autoreload\n",
    "%autoreload 2\n",
    "\n",
    "import os\n",
    "import sys\n",
    "\n",
    "cores = os.cpu_count()\n",
    "os.environ[\"XLA_FLAGS\"] = f'--xla_force_host_platform_device_count={cores}'\n",
    "root_path = os.path.abspath(os.pardir)\n",
    "if root_path not in sys.path:\n",
    "    sys.path.append(root_path)"
   ]
  },
  {
   "attachments": {},
   "cell_type": "markdown",
   "metadata": {},
   "source": [
    "## Importing the needed libraries"
   ]
  },
  {
   "cell_type": "code",
   "execution_count": 2,
   "metadata": {},
   "outputs": [
    {
     "name": "stderr",
     "output_type": "stream",
     "text": [
      "/opt/homebrew/Caskroom/miniconda/base/envs/sbm/lib/python3.11/site-packages/tqdm/auto.py:21: TqdmWarning: IProgress not found. Please update jupyter and ipywidgets. See https://ipywidgets.readthedocs.io/en/stable/user_install.html\n",
      "  from .autonotebook import tqdm as notebook_tqdm\n",
      "/opt/homebrew/Caskroom/miniconda/base/envs/sbm/lib/python3.11/site-packages/pymc/sampling/jax.py:39: UserWarning: This module is experimental.\n",
      "  warnings.warn(\"This module is experimental.\")\n"
     ]
    }
   ],
   "source": [
    "import pandas as pd\n",
    "import numpy as np\n",
    "import numpyro\n",
    "import pymc as pm\n",
    "\n",
    "from src.data import data_generator\n",
    "from src.handler import Handler\n",
    "from src.diagnostics import convergency_validator, dist_validator\n",
    "from src.plots import plot_ess_ps, plot_monitor\n",
    "\n",
    "RANDOM_SEED = 8957\n"
   ]
  },
  {
   "attachments": {},
   "cell_type": "markdown",
   "metadata": {},
   "source": [
    "## Getting the data\n",
    "\n",
    "Create a Pandas [DataFrame](https://pandas.pydata.org/docs/reference/api/pandas.DataFrame.html) with the variables to be used to define the model.\n",
    "\n",
    "✍🏽 User input required."
   ]
  },
  {
   "cell_type": "code",
   "execution_count": 3,
   "metadata": {},
   "outputs": [],
   "source": [
    "# Code to generate the data, name the final results as data\n",
    "data = pd.read_csv(\"https://drive.google.com/uc?id=1KtkXe3_orIGCgP-_XE7tQdYWfqPzFTTF\",\n",
    "                   usecols=[\"tourney_date\", \"winner_name\", \"loser_name\"],\n",
    "                   parse_dates=['tourney_date'])\n",
    "data[\"year\"] = data[\"tourney_date\"].dt.year"
   ]
  },
  {
   "attachments": {},
   "cell_type": "markdown",
   "metadata": {},
   "source": [
    "## Defining the model\n",
    "\n",
    "In the following cells, write the code for the models you want to compare. To make comparing the models and results easier, use the same name of variables in each version of the model.\n",
    "\n",
    "**For models in PyMC:** Create an annotated function, as in the example, that returns a `pm.model.Model`.\n",
    "\n",
    "**For models in Numpyro:** Use the same variable names of the `DataFrame` `data` for the arguments of the function model. These arguments should contain only columns present in `data`.\n",
    "\n",
    "✍🏽 User input required."
   ]
  },
  {
   "cell_type": "code",
   "execution_count": 4,
   "metadata": {},
   "outputs": [],
   "source": [
    "\n",
    "def pymc_model_gen(data: pd.DataFrame) -> pm.model.Model:\n",
    "    _, players_map = (pd.concat([data[\"winner_name\"], data[\"loser_name\"]])).factorize()\n",
    "    players = players_map.to_list()\n",
    "    winners_codes = data[\"winner_name\"].apply(lambda x: players.index(x)).values\n",
    "    losers_codes = data[\"loser_name\"].apply(lambda x: players.index(x)).values\n",
    "    coords = {\"players\": np.arange(0, len(players))}\n",
    "    with pm.Model(coords=coords) as pymc_model:\n",
    "        # Your model here\n",
    "        player_sd = pm.HalfNormal(\"player_sd\", sigma=1.0)\n",
    "        player_skills_raw = pm.Normal(\n",
    "            \"player_skills_raw\", 0.0, sigma=1.0, dims=\"players\")\n",
    "\n",
    "        player_skills = pm.Deterministic(\"player_skills\", player_skills_raw * player_sd)\n",
    "        logit_skills = player_skills[winners_codes] - player_skills[losers_codes]\n",
    "\n",
    "        lik = pm.Bernoulli(\n",
    "            \"win_lik\", logit_p=logit_skills, observed=np.ones(winners_codes.shape[0])\n",
    "        )\n",
    "    return pymc_model"
   ]
  },
  {
   "cell_type": "code",
   "execution_count": 5,
   "metadata": {},
   "outputs": [],
   "source": [
    "import numpyro.distributions as dist\n",
    "from numpyro.infer import NUTS\n",
    "\n",
    "\n",
    "def model(winner_name, loser_name):\n",
    "    _, players_map = (pd.concat([winner_name, loser_name])).factorize()\n",
    "    players = players_map.to_list()\n",
    "    winners_codes = winner_name.apply(lambda x: players.index(x)).values\n",
    "    losers_codes = loser_name.apply(lambda x: players.index(x)).values\n",
    "\n",
    "    player_sd = numpyro.sample(\"player_sd\", dist.HalfNormal(1.0))\n",
    "    with numpyro.plate(\"players\", len(players)):\n",
    "        player_skills_raw = numpyro.sample(\"player_skills_raw\", dist.Normal(0.0, 1.0))\n",
    "\n",
    "    player_skills = numpyro.deterministic(\"player_skills\", player_skills_raw * player_sd)\n",
    "    logit_skills = player_skills[winners_codes] - player_skills[losers_codes]\n",
    "\n",
    "    lik = numpyro.sample(\"win_lik\", \n",
    "                         dist.BernoulliLogits(logit_skills),\n",
    "                         obs=np.ones(winners_codes.shape[0]))\n",
    "\n",
    "numpyro_kernel = NUTS(model)"
   ]
  },
  {
   "attachments": {},
   "cell_type": "markdown",
   "metadata": {},
   "source": [
    "## Inference\n",
    "Here, we will create create valid [InferenceData](https://python.arviz.org/en/latest/api/generated/arviz.InferenceData.html) objects and a set of metrics to measure performance for the selected models, data sizes and samplers."
   ]
  },
  {
   "cell_type": "code",
   "execution_count": 6,
   "metadata": {},
   "outputs": [
    {
     "data": {
      "text/plain": [
       "(169073, 4)"
      ]
     },
     "execution_count": 6,
     "metadata": {},
     "output_type": "execute_result"
    }
   ],
   "source": [
    "data.shape"
   ]
  },
  {
   "attachments": {},
   "cell_type": "markdown",
   "metadata": {},
   "source": [
    "### Creating multiple data sizes\n",
    "\n",
    "To have a benchmark using different data sizes, we will use the function `data_generator` which will use the original dataset to generate datasets with the given `sizes` or filtering the original data in the parameter `filters`. You can also add Gaussian noise to selected variables using the parameter `include_noise`.\n",
    "\n",
    "✍🏽 User input required."
   ]
  },
  {
   "cell_type": "code",
   "execution_count": 7,
   "metadata": {},
   "outputs": [],
   "source": [
    "data_sizes = []\n",
    "include_noise = []\n",
    "years = [2020, 2019, 2015, 2010, 2000, 1990, 1980, 1968]\n",
    "filters = [f\"year >= {y}\" for y in years]\n",
    "datasets = data_generator(data, filters=filters)\n",
    "# If you want to work only with the original data, use this instead\n",
    "# datasets = {\"original_size\": data}"
   ]
  },
  {
   "cell_type": "code",
   "execution_count": 8,
   "metadata": {},
   "outputs": [
    {
     "data": {
      "text/plain": [
       "[6744, 9215, 19551, 32337, 60363, 93549, 126960, 169073]"
      ]
     },
     "execution_count": 8,
     "metadata": {},
     "output_type": "execute_result"
    }
   ],
   "source": [
    "data_sizes = [int(k) for k in datasets.keys()]\n",
    "data_sizes"
   ]
  },
  {
   "attachments": {},
   "cell_type": "markdown",
   "metadata": {},
   "source": [
    "### Sampling\n",
    "\n",
    "⚠️ You should at least use 2 chains to be able to calculate correctly the diagnostics.\n",
    "\n",
    "✍🏽 User input required."
   ]
  },
  {
   "cell_type": "code",
   "execution_count": 9,
   "metadata": {},
   "outputs": [
    {
     "name": "stdout",
     "output_type": "stream",
     "text": [
      "\n",
      "> Getting samples using libray pymc:\n",
      "\n",
      ">> Getting samples for data with size 6744\n",
      "\n",
      ">>> Getting samples using the PYMC sampler default\n"
     ]
    },
    {
     "name": "stderr",
     "output_type": "stream",
     "text": [
      "Auto-assigning NUTS sampler...\n",
      "Initializing NUTS using jitter+adapt_diag...\n",
      "Multiprocess sampling (2 chains in 2 jobs)\n",
      "NUTS: [player_sd, player_skills_raw]\n",
      "Sampling 2 chains for 2_000 tune and 2_000 draw iterations (4_000 + 4_000 draws total) took 58 seconds.\n"
     ]
    },
    {
     "name": "stdout",
     "output_type": "stream",
     "text": [
      "\n",
      ">>> Getting samples using the PYMC sampler numpyro\n",
      "Compiling...\n",
      "Compilation time =  0:00:02.575669\n",
      "Sampling...\n",
      "Sampling time =  0:00:18.611258\n",
      "Transforming variables...\n",
      "Transformation time =  0:00:00.119879\n",
      "\n",
      ">>> Getting samples using the PYMC sampler blackjax\n",
      "Compiling...\n",
      "Compilation time =  0:00:02.416332\n",
      "Sampling...\n",
      "Sampling time =  0:00:07.339884\n",
      "Transforming variables...\n",
      "Transformation time =  0:00:12.763354\n",
      "\n",
      ">> Getting samples for data with size 9215\n",
      "\n",
      ">>> Getting samples using the PYMC sampler default\n"
     ]
    },
    {
     "name": "stderr",
     "output_type": "stream",
     "text": [
      "Auto-assigning NUTS sampler...\n",
      "Initializing NUTS using jitter+adapt_diag...\n",
      "Multiprocess sampling (2 chains in 2 jobs)\n",
      "NUTS: [player_sd, player_skills_raw]\n",
      "Sampling 2 chains for 2_000 tune and 2_000 draw iterations (4_000 + 4_000 draws total) took 56 seconds.\n"
     ]
    },
    {
     "name": "stdout",
     "output_type": "stream",
     "text": [
      "\n",
      ">>> Getting samples using the PYMC sampler numpyro\n",
      "Compiling...\n",
      "Compilation time =  0:00:02.463714\n",
      "Sampling...\n",
      "Sampling time =  0:00:23.301053\n",
      "Transforming variables...\n",
      "Transformation time =  0:00:00.081346\n",
      "\n",
      ">>> Getting samples using the PYMC sampler blackjax\n",
      "Compiling...\n",
      "Compilation time =  0:00:02.457260\n",
      "Sampling...\n",
      "Sampling time =  0:00:07.612417\n",
      "Transforming variables...\n",
      "Transformation time =  0:00:16.677550\n",
      "\n",
      ">> Getting samples for data with size 19551\n",
      "\n",
      ">>> Getting samples using the PYMC sampler default\n"
     ]
    },
    {
     "name": "stderr",
     "output_type": "stream",
     "text": [
      "Auto-assigning NUTS sampler...\n",
      "Initializing NUTS using jitter+adapt_diag...\n",
      "Multiprocess sampling (2 chains in 2 jobs)\n",
      "NUTS: [player_sd, player_skills_raw]\n",
      "Sampling 2 chains for 2_000 tune and 2_000 draw iterations (4_000 + 4_000 draws total) took 101 seconds.\n"
     ]
    },
    {
     "name": "stdout",
     "output_type": "stream",
     "text": [
      "\n",
      ">>> Getting samples using the PYMC sampler numpyro\n",
      "Compiling...\n",
      "Compilation time =  0:00:02.528060\n",
      "Sampling...\n",
      "Sampling time =  0:00:48.320074\n",
      "Transforming variables...\n",
      "Transformation time =  0:00:00.082378\n",
      "\n",
      ">>> Getting samples using the PYMC sampler blackjax\n",
      "Compiling...\n",
      "Compilation time =  0:00:02.446271\n",
      "Sampling...\n",
      "Sampling time =  0:00:07.803320\n",
      "Transforming variables...\n",
      "Transformation time =  0:00:39.163036\n",
      "\n",
      ">> Getting samples for data with size 32337\n",
      "\n",
      ">>> Getting samples using the PYMC sampler default\n"
     ]
    },
    {
     "name": "stderr",
     "output_type": "stream",
     "text": [
      "Auto-assigning NUTS sampler...\n",
      "Initializing NUTS using jitter+adapt_diag...\n",
      "Multiprocess sampling (2 chains in 2 jobs)\n",
      "NUTS: [player_sd, player_skills_raw]\n",
      "Sampling 2 chains for 2_000 tune and 2_000 draw iterations (4_000 + 4_000 draws total) took 167 seconds.\n"
     ]
    },
    {
     "name": "stdout",
     "output_type": "stream",
     "text": [
      "\n",
      ">>> Getting samples using the PYMC sampler numpyro\n",
      "Compiling...\n",
      "Compilation time =  0:00:02.479910\n",
      "Sampling...\n",
      "Sampling time =  0:01:23.720103\n",
      "Transforming variables...\n",
      "Transformation time =  0:00:00.085146\n",
      "\n",
      ">>> Getting samples using the PYMC sampler blackjax\n",
      "Compiling...\n",
      "Compilation time =  0:00:02.466343\n",
      "Sampling...\n",
      "Sampling time =  0:00:07.625777\n",
      "Transforming variables...\n",
      "Transformation time =  0:01:13.345419\n",
      "\n",
      ">> Getting samples for data with size 60363\n",
      "\n",
      ">>> Getting samples using the PYMC sampler default\n"
     ]
    },
    {
     "name": "stderr",
     "output_type": "stream",
     "text": [
      "Auto-assigning NUTS sampler...\n",
      "Initializing NUTS using jitter+adapt_diag...\n",
      "Multiprocess sampling (2 chains in 2 jobs)\n",
      "NUTS: [player_sd, player_skills_raw]\n",
      "Sampling 2 chains for 2_000 tune and 2_000 draw iterations (4_000 + 4_000 draws total) took 300 seconds.\n"
     ]
    },
    {
     "name": "stdout",
     "output_type": "stream",
     "text": [
      "\n",
      ">>> Getting samples using the PYMC sampler numpyro\n",
      "Compiling...\n",
      "Compilation time =  0:00:02.428395\n",
      "Sampling...\n",
      "Sampling time =  0:02:50.502136\n",
      "Transforming variables...\n",
      "Transformation time =  0:00:00.090354\n",
      "\n",
      ">>> Getting samples using the PYMC sampler blackjax\n",
      "Compiling...\n",
      "Compilation time =  0:00:02.469506\n",
      "Sampling...\n",
      "Sampling time =  0:00:07.720800\n",
      "Transforming variables...\n",
      "Transformation time =  0:02:28.970998\n",
      "\n",
      ">> Getting samples for data with size 93549\n",
      "\n",
      ">>> Getting samples using the PYMC sampler default\n"
     ]
    },
    {
     "name": "stderr",
     "output_type": "stream",
     "text": [
      "Auto-assigning NUTS sampler...\n",
      "Initializing NUTS using jitter+adapt_diag...\n",
      "Multiprocess sampling (2 chains in 2 jobs)\n",
      "NUTS: [player_sd, player_skills_raw]\n",
      "Sampling 2 chains for 2_000 tune and 2_000 draw iterations (4_000 + 4_000 draws total) took 471 seconds.\n"
     ]
    },
    {
     "name": "stdout",
     "output_type": "stream",
     "text": [
      "\n",
      ">>> Getting samples using the PYMC sampler numpyro\n",
      "Compiling...\n",
      "Compilation time =  0:00:02.438509\n",
      "Sampling...\n",
      "Sampling time =  0:06:06.303316\n",
      "Transforming variables...\n",
      "Transformation time =  0:00:00.092036\n",
      "\n",
      ">>> Getting samples using the PYMC sampler blackjax\n",
      "Compiling...\n",
      "Compilation time =  0:00:02.420329\n",
      "Sampling...\n",
      "Sampling time =  0:00:07.123491\n",
      "Transforming variables...\n",
      "Transformation time =  0:03:03.506126\n",
      "\n",
      ">> Getting samples for data with size 126960\n",
      "\n",
      ">>> Getting samples using the PYMC sampler default\n"
     ]
    },
    {
     "name": "stderr",
     "output_type": "stream",
     "text": [
      "Auto-assigning NUTS sampler...\n",
      "Initializing NUTS using jitter+adapt_diag...\n",
      "Multiprocess sampling (2 chains in 2 jobs)\n",
      "NUTS: [player_sd, player_skills_raw]\n",
      "Sampling 2 chains for 2_000 tune and 2_000 draw iterations (4_000 + 4_000 draws total) took 649 seconds.\n"
     ]
    },
    {
     "name": "stdout",
     "output_type": "stream",
     "text": [
      "\n",
      ">>> Getting samples using the PYMC sampler numpyro\n",
      "Compiling...\n",
      "Compilation time =  0:00:02.456918\n",
      "Sampling...\n",
      "Sampling time =  0:05:58.195011\n",
      "Transforming variables...\n",
      "Transformation time =  0:00:00.094503\n",
      "\n",
      ">>> Getting samples using the PYMC sampler blackjax\n",
      "Compiling...\n",
      "Compilation time =  0:00:02.517456\n",
      "Sampling...\n",
      "Sampling time =  0:00:07.349567\n",
      "Transforming variables...\n",
      "Transformation time =  0:04:38.940715\n",
      "\n",
      ">> Getting samples for data with size 169073\n",
      "\n",
      ">>> Getting samples using the PYMC sampler default\n"
     ]
    },
    {
     "name": "stderr",
     "output_type": "stream",
     "text": [
      "Auto-assigning NUTS sampler...\n",
      "Initializing NUTS using jitter+adapt_diag...\n",
      "Multiprocess sampling (2 chains in 2 jobs)\n",
      "NUTS: [player_sd, player_skills_raw]\n",
      "Sampling 2 chains for 2_000 tune and 2_000 draw iterations (4_000 + 4_000 draws total) took 1277 seconds.\n"
     ]
    },
    {
     "name": "stdout",
     "output_type": "stream",
     "text": [
      "\n",
      ">>> Getting samples using the PYMC sampler numpyro\n",
      "Compiling...\n",
      "Compilation time =  0:00:02.463156\n",
      "Sampling...\n",
      "Sampling time =  0:08:07.334990\n",
      "Transforming variables...\n",
      "Transformation time =  0:00:00.104611\n",
      "\n",
      ">>> Getting samples using the PYMC sampler blackjax\n",
      "Compiling...\n",
      "Compilation time =  0:00:02.457948\n",
      "Sampling...\n",
      "Sampling time =  0:00:07.208030\n",
      "Transforming variables...\n",
      "Transformation time =  0:06:43.145367\n",
      "\n",
      "> Getting samples using libray numpyro:\n",
      "\n",
      ">> Getting samples for data with size 6744\n"
     ]
    },
    {
     "name": "stderr",
     "output_type": "stream",
     "text": [
      "Running chain 0: 100%|██████████| 4000/4000 [00:16<00:00, 237.54it/s]\n",
      "Running chain 1: 100%|██████████| 4000/4000 [00:16<00:00, 237.58it/s]\n"
     ]
    },
    {
     "name": "stdout",
     "output_type": "stream",
     "text": [
      "\n",
      ">> Getting samples for data with size 9215\n"
     ]
    },
    {
     "name": "stderr",
     "output_type": "stream",
     "text": [
      "Running chain 0: 100%|██████████| 4000/4000 [00:21<00:00, 188.80it/s]\n",
      "Running chain 1: 100%|██████████| 4000/4000 [00:21<00:00, 188.82it/s]\n"
     ]
    },
    {
     "name": "stdout",
     "output_type": "stream",
     "text": [
      "\n",
      ">> Getting samples for data with size 19551\n"
     ]
    },
    {
     "name": "stderr",
     "output_type": "stream",
     "text": [
      "Running chain 0: 100%|██████████| 4000/4000 [00:41<00:00, 96.75it/s] \n",
      "Running chain 1: 100%|██████████| 4000/4000 [00:41<00:00, 96.75it/s] \n"
     ]
    },
    {
     "name": "stdout",
     "output_type": "stream",
     "text": [
      "\n",
      ">> Getting samples for data with size 32337\n"
     ]
    },
    {
     "name": "stderr",
     "output_type": "stream",
     "text": [
      "Running chain 0: 100%|██████████| 4000/4000 [01:06<00:00, 60.07it/s]\n",
      "Running chain 1: 100%|██████████| 4000/4000 [01:06<00:00, 60.07it/s]\n"
     ]
    },
    {
     "name": "stdout",
     "output_type": "stream",
     "text": [
      "\n",
      ">> Getting samples for data with size 60363\n"
     ]
    },
    {
     "name": "stderr",
     "output_type": "stream",
     "text": [
      "Running chain 0: 100%|██████████| 4000/4000 [02:19<00:00, 28.61it/s]\n",
      "Running chain 1: 100%|██████████| 4000/4000 [02:19<00:00, 28.61it/s]\n"
     ]
    },
    {
     "name": "stdout",
     "output_type": "stream",
     "text": [
      "\n",
      ">> Getting samples for data with size 93549\n"
     ]
    },
    {
     "name": "stderr",
     "output_type": "stream",
     "text": [
      "Running chain 0: 100%|██████████| 4000/4000 [03:17<00:00, 20.22it/s]\n",
      "Running chain 1: 100%|██████████| 4000/4000 [03:17<00:00, 20.22it/s]\n"
     ]
    },
    {
     "name": "stdout",
     "output_type": "stream",
     "text": [
      "\n",
      ">> Getting samples for data with size 126960\n"
     ]
    },
    {
     "name": "stderr",
     "output_type": "stream",
     "text": [
      "Running chain 0: 100%|██████████| 4000/4000 [04:50<00:00, 13.79it/s]\n",
      "Running chain 1: 100%|██████████| 4000/4000 [04:50<00:00, 13.79it/s]\n"
     ]
    },
    {
     "name": "stdout",
     "output_type": "stream",
     "text": [
      "\n",
      ">> Getting samples for data with size 169073\n"
     ]
    },
    {
     "name": "stderr",
     "output_type": "stream",
     "text": [
      "Running chain 0: 100%|██████████| 4000/4000 [07:26<00:00,  8.95it/s]\n",
      "Running chain 1: 100%|██████████| 4000/4000 [07:26<00:00,  8.95it/s]\n"
     ]
    }
   ],
   "source": [
    "# Use the following path if working in Google Colab\n",
    "# output_path = \"data/results\"\n",
    "output_path = \"../data/results\"\n",
    "models = {\"pymc\": pymc_model_gen, \"numpyro\": numpyro_kernel}\n",
    "pymc_samplers = [\"default\", \"numpyro\", \"blackjax\"]\n",
    "draws = 2000\n",
    "tune = 2000\n",
    "# It's recommended to use between 2 and 4 chains\n",
    "chains = 2\n",
    "\n",
    "# sampling all models\n",
    "handler = Handler(models, datasets, pymc_samplers, output_path)\n",
    "infer_data, results = handler.execute(draws, tune, chains, RANDOM_SEED)"
   ]
  },
  {
   "attachments": {},
   "cell_type": "markdown",
   "metadata": {},
   "source": [
    "## Check Convergency\n",
    "\n",
    "After sampling, the function `convergency_validator` will help you know if the models have converged. This function use the [rank normalized splitR-hat](https://python.arviz.org/en/latest/api/generated/arviz.rhat.html).\n",
    "\n",
    "An $\\hat R$ > 1.05 indicates convergence failures. In this case, the results of the next step `Validate Results` **can't be considered** as they assumed the MCMC has converged. "
   ]
  },
  {
   "cell_type": "code",
   "execution_count": 20,
   "metadata": {},
   "outputs": [
    {
     "name": "stdout",
     "output_type": "stream",
     "text": [
      "Convergency test using R-hat:\n",
      "> pymc_default_6744       : 1.01 ✅\n",
      "> pymc_numpyro_6744       : 1.00 ✅\n",
      "> pymc_blackjax_6744      : 1.01 ✅\n",
      "> pymc_default_9215       : 1.01 ✅\n",
      "> pymc_numpyro_9215       : 1.01 ✅\n",
      "> pymc_blackjax_9215      : 1.01 ✅\n",
      "> pymc_default_19551      : 1.01 ✅\n",
      "> pymc_numpyro_19551      : 1.01 ✅\n",
      "> pymc_blackjax_19551     : 1.01 ✅\n",
      "> pymc_default_32337      : 1.01 ✅\n",
      "> pymc_numpyro_32337      : 1.01 ✅\n",
      "> pymc_blackjax_32337     : 1.01 ✅\n",
      "> pymc_default_60363      : 1.01 ✅\n",
      "> pymc_numpyro_60363      : 1.01 ✅\n",
      "> pymc_blackjax_60363     : 1.01 ✅\n",
      "> pymc_default_93549      : 1.01 ✅\n",
      "> pymc_numpyro_93549      : 1.01 ✅\n",
      "> pymc_blackjax_93549     : 1.01 ✅\n",
      "> pymc_default_126960     : 1.01 ✅\n",
      "> pymc_numpyro_126960     : 1.01 ✅\n",
      "> pymc_blackjax_126960    : 1.01 ✅\n",
      "> pymc_default_169073     : 1.01 ✅\n",
      "> pymc_numpyro_169073     : 1.01 ✅\n",
      "> pymc_blackjax_169073    : 1.01 ✅\n",
      "> numpyro_default_6744    : 1.01 ✅\n",
      "> numpyro_default_9215    : 1.01 ✅\n",
      "> numpyro_default_19551   : 1.01 ✅\n",
      "> numpyro_default_32337   : 1.02 ✅\n",
      "> numpyro_default_60363   : 1.01 ✅\n",
      "> numpyro_default_93549   : 1.01 ✅\n",
      "> numpyro_default_126960  : 1.01 ✅\n",
      "> numpyro_default_169073  : 1.01 ✅\n"
     ]
    }
   ],
   "source": [
    "convergency_validator(infer_data)"
   ]
  },
  {
   "attachments": {},
   "cell_type": "markdown",
   "metadata": {},
   "source": [
    "## Validate results \n",
    "\n",
    "To check that the models are sampling from the same distributions. The function `dist_validator` will estimate the ranges of the mean for each variable using the [MCSE](https://python.arviz.org/en/latest/api/generated/arviz.mcse.html) of one of the models as reference. You can either give a `seed` to choose a model randomly or give the key `ref_key` of a selected model. The reference model will be compared only with others using the same sample size.\n",
    "\n",
    "The percentages displayed indicate how many variables are within the calculated range using ±3 sigma. The values should be in theory greater or equal to `95%` following a weaker [three-sigma rule](https://en.wikipedia.org/wiki/68%E2%80%9395%E2%80%9399.7_rule)."
   ]
  },
  {
   "cell_type": "code",
   "execution_count": 11,
   "metadata": {},
   "outputs": [
    {
     "name": "stdout",
     "output_type": "stream",
     "text": [
      "Percentage of variables with the expected mean using MCSE:\n",
      "> pymc_default_6744       :  97.02% using as a reference pymc_numpyro_6744        ✅\n",
      "> pymc_numpyro_6744       : 100.00% using as a reference pymc_numpyro_6744        ✅\n",
      "> pymc_blackjax_6744      :  97.14% using as a reference pymc_numpyro_6744        ✅\n",
      "> pymc_default_9215       :  97.24% using as a reference pymc_numpyro_9215        ✅\n",
      "> pymc_numpyro_9215       : 100.00% using as a reference pymc_numpyro_9215        ✅\n",
      "> pymc_blackjax_9215      :  98.30% using as a reference pymc_numpyro_9215        ✅\n",
      "> pymc_default_19551      :  96.54% using as a reference pymc_numpyro_19551       ✅\n",
      "> pymc_numpyro_19551      : 100.00% using as a reference pymc_numpyro_19551       ✅\n",
      "> pymc_blackjax_19551     :  95.61% using as a reference pymc_numpyro_19551       ✅\n",
      "> pymc_default_32337      :  95.24% using as a reference pymc_numpyro_32337       ✅\n",
      "> pymc_numpyro_32337      : 100.00% using as a reference pymc_numpyro_32337       ✅\n",
      "> pymc_blackjax_32337     :  97.43% using as a reference pymc_numpyro_32337       ✅\n",
      "> pymc_default_60363      :  98.47% using as a reference pymc_numpyro_60363       ✅\n",
      "> pymc_numpyro_60363      : 100.00% using as a reference pymc_numpyro_60363       ✅\n",
      "> pymc_blackjax_60363     :  95.38% using as a reference pymc_numpyro_60363       ✅\n",
      "> pymc_default_93549      :  96.60% using as a reference pymc_numpyro_93549       ✅\n",
      "> pymc_numpyro_93549      : 100.00% using as a reference pymc_numpyro_93549       ✅\n",
      "> pymc_blackjax_93549     :  92.38% using as a reference pymc_numpyro_93549       ❌\n",
      "> pymc_default_126960     :  93.47% using as a reference pymc_numpyro_126960      ❌\n",
      "> pymc_numpyro_126960     : 100.00% using as a reference pymc_numpyro_126960      ✅\n",
      "> pymc_blackjax_126960    :  94.29% using as a reference pymc_numpyro_126960      ❌\n",
      "> pymc_default_169073     :  92.07% using as a reference pymc_numpyro_169073      ❌\n",
      "> pymc_numpyro_169073     : 100.00% using as a reference pymc_numpyro_169073      ✅\n",
      "> pymc_blackjax_169073    :  96.39% using as a reference pymc_numpyro_169073      ✅\n",
      "> numpyro_default_6744    :  97.62% using as a reference pymc_numpyro_6744        ✅\n",
      "> numpyro_default_9215    :  96.71% using as a reference pymc_numpyro_9215        ✅\n",
      "> numpyro_default_19551   :  94.84% using as a reference pymc_numpyro_19551       ❌\n",
      "> numpyro_default_32337   :  95.51% using as a reference pymc_numpyro_32337       ✅\n",
      "> numpyro_default_60363   :  97.21% using as a reference pymc_numpyro_60363       ✅\n",
      "> numpyro_default_93549   :  96.49% using as a reference pymc_numpyro_93549       ✅\n",
      "> numpyro_default_126960  :  93.40% using as a reference pymc_numpyro_126960      ❌\n",
      "> numpyro_default_169073  :  96.54% using as a reference pymc_numpyro_169073      ✅\n"
     ]
    }
   ],
   "source": [
    "results_val, summaries = dist_validator(infer_data, ref_key=\"pymc_numpyro_6744\")"
   ]
  },
  {
   "attachments": {},
   "cell_type": "markdown",
   "metadata": {},
   "source": [
    "## Comparison"
   ]
  },
  {
   "attachments": {},
   "cell_type": "markdown",
   "metadata": {},
   "source": [
    "### Resources metrics"
   ]
  },
  {
   "cell_type": "code",
   "execution_count": 12,
   "metadata": {},
   "outputs": [
    {
     "data": {
      "image/png": "[encoded data removed]",
      "text/plain": [
       "<Figure size 1168.25x500 with 2 Axes>"
      ]
     },
     "metadata": {},
     "output_type": "display_data"
    }
   ],
   "source": [
    "plot_monitor(results)"
   ]
  },
  {
   "attachments": {},
   "cell_type": "markdown",
   "metadata": {},
   "source": [
    "### ESS\n",
    "\n",
    "To determine the sampler performance, we use the **Effective Sample Size** ([ESS](https://python.arviz.org/en/latest/api/generated/arviz.ess.html])) calculated per second."
   ]
  },
  {
   "cell_type": "code",
   "execution_count": 13,
   "metadata": {},
   "outputs": [
    {
     "data": {
      "image/png": "[encoded data removed]",
      "text/plain": [
       "<Figure size 1168.25x500 with 2 Axes>"
      ]
     },
     "metadata": {},
     "output_type": "display_data"
    }
   ],
   "source": [
    "plot_ess_ps(results, summaries, data_sizes=data_sizes)"
   ]
  },
  {
   "cell_type": "code",
   "execution_count": 14,
   "metadata": {},
   "outputs": [
    {
     "name": "stdout",
     "output_type": "stream",
     "text": [
      "Using 'ESS per Second' previously calculated\n"
     ]
    },
    {
     "data": {
      "image/png": "[encoded data removed]",
      "text/plain": [
       "<Figure size 1168.25x500 with 2 Axes>"
      ]
     },
     "metadata": {},
     "output_type": "display_data"
    }
   ],
   "source": [
    "plot_ess_ps(results, summaries, data_sizes=data_sizes[-4:])"
   ]
  },
  {
   "cell_type": "code",
   "execution_count": 15,
   "metadata": {},
   "outputs": [
    {
     "name": "stdout",
     "output_type": "stream",
     "text": [
      "Using 'ESS per Second' previously calculated\n"
     ]
    },
    {
     "data": {
      "image/png": "[encoded data removed]",
      "text/plain": [
       "<Figure size 640x480 with 1 Axes>"
      ]
     },
     "metadata": {},
     "output_type": "display_data"
    }
   ],
   "source": [
    "plot_ess_ps(results, summaries, data_sizes=[max(data_sizes)])"
   ]
  },
  {
   "attachments": {},
   "cell_type": "markdown",
   "metadata": {},
   "source": [
    "Let's rank the best across all data sizes:"
   ]
  },
  {
   "cell_type": "code",
   "execution_count": 16,
   "metadata": {},
   "outputs": [
    {
     "data": {
      "text/html": [
       "<div>\n",
       "<style scoped>\n",
       "    .dataframe tbody tr th:only-of-type {\n",
       "        vertical-align: middle;\n",
       "    }\n",
       "\n",
       "    .dataframe tbody tr th {\n",
       "        vertical-align: top;\n",
       "    }\n",
       "\n",
       "    .dataframe thead th {\n",
       "        text-align: right;\n",
       "    }\n",
       "</style>\n",
       "<table border=\"1\" class=\"dataframe\">\n",
       "  <thead>\n",
       "    <tr style=\"text-align: right;\">\n",
       "      <th></th>\n",
       "      <th>library</th>\n",
       "      <th>sampler</th>\n",
       "      <th>size</th>\n",
       "      <th>elapsed_time</th>\n",
       "      <th>Peak Memory (MB)</th>\n",
       "      <th>Elapsed time (m)</th>\n",
       "      <th>ess_mean/s</th>\n",
       "      <th>ess_tail/s</th>\n",
       "      <th>rank</th>\n",
       "    </tr>\n",
       "  </thead>\n",
       "  <tbody>\n",
       "    <tr>\n",
       "      <th>numpyro_default_6744</th>\n",
       "      <td>numpyro</td>\n",
       "      <td>default</td>\n",
       "      <td>6744.0</td>\n",
       "      <td>18.516138</td>\n",
       "      <td>30.602727</td>\n",
       "      <td>0.308602</td>\n",
       "      <td>46.511912</td>\n",
       "      <td>88.085321</td>\n",
       "      <td>1</td>\n",
       "    </tr>\n",
       "    <tr>\n",
       "      <th>pymc_numpyro_6744</th>\n",
       "      <td>pymc</td>\n",
       "      <td>numpyro</td>\n",
       "      <td>6744.0</td>\n",
       "      <td>21.418637</td>\n",
       "      <td>22.067568</td>\n",
       "      <td>0.356977</td>\n",
       "      <td>39.835962</td>\n",
       "      <td>83.385325</td>\n",
       "      <td>2</td>\n",
       "    </tr>\n",
       "    <tr>\n",
       "      <th>pymc_blackjax_6744</th>\n",
       "      <td>pymc</td>\n",
       "      <td>blackjax</td>\n",
       "      <td>6744.0</td>\n",
       "      <td>22.842896</td>\n",
       "      <td>23.718265</td>\n",
       "      <td>0.380715</td>\n",
       "      <td>36.495372</td>\n",
       "      <td>59.712217</td>\n",
       "      <td>3</td>\n",
       "    </tr>\n",
       "    <tr>\n",
       "      <th>pymc_default_6744</th>\n",
       "      <td>pymc</td>\n",
       "      <td>default</td>\n",
       "      <td>6744.0</td>\n",
       "      <td>72.854289</td>\n",
       "      <td>123.292656</td>\n",
       "      <td>1.214238</td>\n",
       "      <td>12.785507</td>\n",
       "      <td>24.899015</td>\n",
       "      <td>4</td>\n",
       "    </tr>\n",
       "    <tr>\n",
       "      <th>numpyro_default_9215</th>\n",
       "      <td>numpyro</td>\n",
       "      <td>default</td>\n",
       "      <td>9215.0</td>\n",
       "      <td>22.478361</td>\n",
       "      <td>34.070506</td>\n",
       "      <td>0.374639</td>\n",
       "      <td>33.292507</td>\n",
       "      <td>54.096470</td>\n",
       "      <td>1</td>\n",
       "    </tr>\n",
       "    <tr>\n",
       "      <th>pymc_numpyro_9215</th>\n",
       "      <td>pymc</td>\n",
       "      <td>numpyro</td>\n",
       "      <td>9215.0</td>\n",
       "      <td>25.901371</td>\n",
       "      <td>22.610729</td>\n",
       "      <td>0.431690</td>\n",
       "      <td>31.992863</td>\n",
       "      <td>42.623227</td>\n",
       "      <td>2</td>\n",
       "    </tr>\n",
       "    <tr>\n",
       "      <th>pymc_blackjax_9215</th>\n",
       "      <td>pymc</td>\n",
       "      <td>blackjax</td>\n",
       "      <td>9215.0</td>\n",
       "      <td>26.832395</td>\n",
       "      <td>19.443444</td>\n",
       "      <td>0.447207</td>\n",
       "      <td>27.115284</td>\n",
       "      <td>52.585691</td>\n",
       "      <td>3</td>\n",
       "    </tr>\n",
       "    <tr>\n",
       "      <th>pymc_default_9215</th>\n",
       "      <td>pymc</td>\n",
       "      <td>default</td>\n",
       "      <td>9215.0</td>\n",
       "      <td>64.050181</td>\n",
       "      <td>136.990686</td>\n",
       "      <td>1.067503</td>\n",
       "      <td>14.742722</td>\n",
       "      <td>26.526077</td>\n",
       "      <td>4</td>\n",
       "    </tr>\n",
       "    <tr>\n",
       "      <th>pymc_numpyro_19551</th>\n",
       "      <td>pymc</td>\n",
       "      <td>numpyro</td>\n",
       "      <td>19551.0</td>\n",
       "      <td>50.986790</td>\n",
       "      <td>28.465453</td>\n",
       "      <td>0.849780</td>\n",
       "      <td>12.439850</td>\n",
       "      <td>23.731637</td>\n",
       "      <td>1</td>\n",
       "    </tr>\n",
       "    <tr>\n",
       "      <th>pymc_blackjax_19551</th>\n",
       "      <td>pymc</td>\n",
       "      <td>blackjax</td>\n",
       "      <td>19551.0</td>\n",
       "      <td>49.493801</td>\n",
       "      <td>25.241754</td>\n",
       "      <td>0.824897</td>\n",
       "      <td>11.975500</td>\n",
       "      <td>28.306575</td>\n",
       "      <td>2</td>\n",
       "    </tr>\n",
       "    <tr>\n",
       "      <th>numpyro_default_19551</th>\n",
       "      <td>numpyro</td>\n",
       "      <td>default</td>\n",
       "      <td>19551.0</td>\n",
       "      <td>43.120902</td>\n",
       "      <td>47.288285</td>\n",
       "      <td>0.718682</td>\n",
       "      <td>11.365532</td>\n",
       "      <td>27.457682</td>\n",
       "      <td>3</td>\n",
       "    </tr>\n",
       "    <tr>\n",
       "      <th>pymc_default_19551</th>\n",
       "      <td>pymc</td>\n",
       "      <td>default</td>\n",
       "      <td>19551.0</td>\n",
       "      <td>109.535932</td>\n",
       "      <td>184.671398</td>\n",
       "      <td>1.825599</td>\n",
       "      <td>6.158262</td>\n",
       "      <td>10.544485</td>\n",
       "      <td>4</td>\n",
       "    </tr>\n",
       "    <tr>\n",
       "      <th>pymc_blackjax_32337</th>\n",
       "      <td>pymc</td>\n",
       "      <td>blackjax</td>\n",
       "      <td>32337.0</td>\n",
       "      <td>83.523002</td>\n",
       "      <td>33.838134</td>\n",
       "      <td>1.392050</td>\n",
       "      <td>5.217473</td>\n",
       "      <td>10.236701</td>\n",
       "      <td>1</td>\n",
       "    </tr>\n",
       "    <tr>\n",
       "      <th>numpyro_default_32337</th>\n",
       "      <td>numpyro</td>\n",
       "      <td>default</td>\n",
       "      <td>32337.0</td>\n",
       "      <td>68.436204</td>\n",
       "      <td>65.975400</td>\n",
       "      <td>1.140603</td>\n",
       "      <td>4.343710</td>\n",
       "      <td>10.959112</td>\n",
       "      <td>2</td>\n",
       "    </tr>\n",
       "    <tr>\n",
       "      <th>pymc_numpyro_32337</th>\n",
       "      <td>pymc</td>\n",
       "      <td>numpyro</td>\n",
       "      <td>32337.0</td>\n",
       "      <td>86.341561</td>\n",
       "      <td>37.294078</td>\n",
       "      <td>1.439026</td>\n",
       "      <td>4.063952</td>\n",
       "      <td>9.045470</td>\n",
       "      <td>3</td>\n",
       "    </tr>\n",
       "    <tr>\n",
       "      <th>pymc_default_32337</th>\n",
       "      <td>pymc</td>\n",
       "      <td>default</td>\n",
       "      <td>32337.0</td>\n",
       "      <td>174.877148</td>\n",
       "      <td>253.338613</td>\n",
       "      <td>2.914619</td>\n",
       "      <td>3.002542</td>\n",
       "      <td>5.643962</td>\n",
       "      <td>4</td>\n",
       "    </tr>\n",
       "    <tr>\n",
       "      <th>numpyro_default_60363</th>\n",
       "      <td>numpyro</td>\n",
       "      <td>default</td>\n",
       "      <td>60363.0</td>\n",
       "      <td>142.956207</td>\n",
       "      <td>108.334430</td>\n",
       "      <td>2.382603</td>\n",
       "      <td>2.054007</td>\n",
       "      <td>5.994843</td>\n",
       "      <td>1</td>\n",
       "    </tr>\n",
       "    <tr>\n",
       "      <th>pymc_blackjax_60363</th>\n",
       "      <td>pymc</td>\n",
       "      <td>blackjax</td>\n",
       "      <td>60363.0</td>\n",
       "      <td>159.252476</td>\n",
       "      <td>53.050502</td>\n",
       "      <td>2.654208</td>\n",
       "      <td>1.961175</td>\n",
       "      <td>3.899468</td>\n",
       "      <td>2</td>\n",
       "    </tr>\n",
       "    <tr>\n",
       "      <th>pymc_numpyro_60363</th>\n",
       "      <td>pymc</td>\n",
       "      <td>numpyro</td>\n",
       "      <td>60363.0</td>\n",
       "      <td>173.080270</td>\n",
       "      <td>57.284453</td>\n",
       "      <td>2.884671</td>\n",
       "      <td>1.500125</td>\n",
       "      <td>3.270159</td>\n",
       "      <td>3</td>\n",
       "    </tr>\n",
       "    <tr>\n",
       "      <th>pymc_default_60363</th>\n",
       "      <td>pymc</td>\n",
       "      <td>default</td>\n",
       "      <td>60363.0</td>\n",
       "      <td>308.398731</td>\n",
       "      <td>407.742393</td>\n",
       "      <td>5.139979</td>\n",
       "      <td>1.397464</td>\n",
       "      <td>1.942291</td>\n",
       "      <td>4</td>\n",
       "    </tr>\n",
       "    <tr>\n",
       "      <th>numpyro_default_93549</th>\n",
       "      <td>numpyro</td>\n",
       "      <td>default</td>\n",
       "      <td>93549.0</td>\n",
       "      <td>203.594136</td>\n",
       "      <td>157.353861</td>\n",
       "      <td>3.393236</td>\n",
       "      <td>1.939466</td>\n",
       "      <td>3.389096</td>\n",
       "      <td>1</td>\n",
       "    </tr>\n",
       "    <tr>\n",
       "      <th>pymc_blackjax_93549</th>\n",
       "      <td>pymc</td>\n",
       "      <td>blackjax</td>\n",
       "      <td>93549.0</td>\n",
       "      <td>193.145733</td>\n",
       "      <td>82.131492</td>\n",
       "      <td>3.219096</td>\n",
       "      <td>1.004915</td>\n",
       "      <td>1.915652</td>\n",
       "      <td>2</td>\n",
       "    </tr>\n",
       "    <tr>\n",
       "      <th>pymc_numpyro_93549</th>\n",
       "      <td>pymc</td>\n",
       "      <td>numpyro</td>\n",
       "      <td>93549.0</td>\n",
       "      <td>368.893300</td>\n",
       "      <td>81.582386</td>\n",
       "      <td>6.148222</td>\n",
       "      <td>0.803758</td>\n",
       "      <td>1.653595</td>\n",
       "      <td>3</td>\n",
       "    </tr>\n",
       "    <tr>\n",
       "      <th>pymc_default_93549</th>\n",
       "      <td>pymc</td>\n",
       "      <td>default</td>\n",
       "      <td>93549.0</td>\n",
       "      <td>479.671201</td>\n",
       "      <td>596.815296</td>\n",
       "      <td>7.994520</td>\n",
       "      <td>0.664176</td>\n",
       "      <td>1.728267</td>\n",
       "      <td>4</td>\n",
       "    </tr>\n",
       "    <tr>\n",
       "      <th>pymc_numpyro_126960</th>\n",
       "      <td>pymc</td>\n",
       "      <td>numpyro</td>\n",
       "      <td>126960.0</td>\n",
       "      <td>360.804403</td>\n",
       "      <td>115.318214</td>\n",
       "      <td>6.013407</td>\n",
       "      <td>1.659478</td>\n",
       "      <td>3.076459</td>\n",
       "      <td>1</td>\n",
       "    </tr>\n",
       "    <tr>\n",
       "      <th>numpyro_default_126960</th>\n",
       "      <td>numpyro</td>\n",
       "      <td>default</td>\n",
       "      <td>126960.0</td>\n",
       "      <td>300.948633</td>\n",
       "      <td>229.598986</td>\n",
       "      <td>5.015811</td>\n",
       "      <td>1.047524</td>\n",
       "      <td>2.309364</td>\n",
       "      <td>2</td>\n",
       "    </tr>\n",
       "    <tr>\n",
       "      <th>pymc_blackjax_126960</th>\n",
       "      <td>pymc</td>\n",
       "      <td>blackjax</td>\n",
       "      <td>126960.0</td>\n",
       "      <td>288.909424</td>\n",
       "      <td>116.288880</td>\n",
       "      <td>4.815157</td>\n",
       "      <td>0.961450</td>\n",
       "      <td>2.485208</td>\n",
       "      <td>3</td>\n",
       "    </tr>\n",
       "    <tr>\n",
       "      <th>pymc_default_126960</th>\n",
       "      <td>pymc</td>\n",
       "      <td>default</td>\n",
       "      <td>126960.0</td>\n",
       "      <td>657.336664</td>\n",
       "      <td>860.896215</td>\n",
       "      <td>10.955611</td>\n",
       "      <td>0.359181</td>\n",
       "      <td>0.865614</td>\n",
       "      <td>4</td>\n",
       "    </tr>\n",
       "    <tr>\n",
       "      <th>pymc_blackjax_169073</th>\n",
       "      <td>pymc</td>\n",
       "      <td>blackjax</td>\n",
       "      <td>169073.0</td>\n",
       "      <td>412.925771</td>\n",
       "      <td>190.496933</td>\n",
       "      <td>6.882096</td>\n",
       "      <td>0.930046</td>\n",
       "      <td>1.508746</td>\n",
       "      <td>1</td>\n",
       "    </tr>\n",
       "    <tr>\n",
       "      <th>pymc_numpyro_169073</th>\n",
       "      <td>pymc</td>\n",
       "      <td>numpyro</td>\n",
       "      <td>169073.0</td>\n",
       "      <td>489.960226</td>\n",
       "      <td>189.881370</td>\n",
       "      <td>8.166004</td>\n",
       "      <td>0.730310</td>\n",
       "      <td>1.224589</td>\n",
       "      <td>2</td>\n",
       "    </tr>\n",
       "    <tr>\n",
       "      <th>numpyro_default_169073</th>\n",
       "      <td>numpyro</td>\n",
       "      <td>default</td>\n",
       "      <td>169073.0</td>\n",
       "      <td>466.817896</td>\n",
       "      <td>378.391640</td>\n",
       "      <td>7.780298</td>\n",
       "      <td>0.681823</td>\n",
       "      <td>1.311004</td>\n",
       "      <td>3</td>\n",
       "    </tr>\n",
       "    <tr>\n",
       "      <th>pymc_default_169073</th>\n",
       "      <td>pymc</td>\n",
       "      <td>default</td>\n",
       "      <td>169073.0</td>\n",
       "      <td>1286.181860</td>\n",
       "      <td>1442.093116</td>\n",
       "      <td>21.436364</td>\n",
       "      <td>0.182056</td>\n",
       "      <td>0.597894</td>\n",
       "      <td>4</td>\n",
       "    </tr>\n",
       "  </tbody>\n",
       "</table>\n",
       "</div>"
      ],
      "text/plain": [
       "                        library   sampler      size  elapsed_time  \\\n",
       "numpyro_default_6744    numpyro   default    6744.0     18.516138   \n",
       "pymc_numpyro_6744          pymc   numpyro    6744.0     21.418637   \n",
       "pymc_blackjax_6744         pymc  blackjax    6744.0     22.842896   \n",
       "pymc_default_6744          pymc   default    6744.0     72.854289   \n",
       "numpyro_default_9215    numpyro   default    9215.0     22.478361   \n",
       "pymc_numpyro_9215          pymc   numpyro    9215.0     25.901371   \n",
       "pymc_blackjax_9215         pymc  blackjax    9215.0     26.832395   \n",
       "pymc_default_9215          pymc   default    9215.0     64.050181   \n",
       "pymc_numpyro_19551         pymc   numpyro   19551.0     50.986790   \n",
       "pymc_blackjax_19551        pymc  blackjax   19551.0     49.493801   \n",
       "numpyro_default_19551   numpyro   default   19551.0     43.120902   \n",
       "pymc_default_19551         pymc   default   19551.0    109.535932   \n",
       "pymc_blackjax_32337        pymc  blackjax   32337.0     83.523002   \n",
       "numpyro_default_32337   numpyro   default   32337.0     68.436204   \n",
       "pymc_numpyro_32337         pymc   numpyro   32337.0     86.341561   \n",
       "pymc_default_32337         pymc   default   32337.0    174.877148   \n",
       "numpyro_default_60363   numpyro   default   60363.0    142.956207   \n",
       "pymc_blackjax_60363        pymc  blackjax   60363.0    159.252476   \n",
       "pymc_numpyro_60363         pymc   numpyro   60363.0    173.080270   \n",
       "pymc_default_60363         pymc   default   60363.0    308.398731   \n",
       "numpyro_default_93549   numpyro   default   93549.0    203.594136   \n",
       "pymc_blackjax_93549        pymc  blackjax   93549.0    193.145733   \n",
       "pymc_numpyro_93549         pymc   numpyro   93549.0    368.893300   \n",
       "pymc_default_93549         pymc   default   93549.0    479.671201   \n",
       "pymc_numpyro_126960        pymc   numpyro  126960.0    360.804403   \n",
       "numpyro_default_126960  numpyro   default  126960.0    300.948633   \n",
       "pymc_blackjax_126960       pymc  blackjax  126960.0    288.909424   \n",
       "pymc_default_126960        pymc   default  126960.0    657.336664   \n",
       "pymc_blackjax_169073       pymc  blackjax  169073.0    412.925771   \n",
       "pymc_numpyro_169073        pymc   numpyro  169073.0    489.960226   \n",
       "numpyro_default_169073  numpyro   default  169073.0    466.817896   \n",
       "pymc_default_169073        pymc   default  169073.0   1286.181860   \n",
       "\n",
       "                        Peak Memory (MB)  Elapsed time (m)  ess_mean/s  \\\n",
       "numpyro_default_6744           30.602727          0.308602   46.511912   \n",
       "pymc_numpyro_6744              22.067568          0.356977   39.835962   \n",
       "pymc_blackjax_6744             23.718265          0.380715   36.495372   \n",
       "pymc_default_6744             123.292656          1.214238   12.785507   \n",
       "numpyro_default_9215           34.070506          0.374639   33.292507   \n",
       "pymc_numpyro_9215              22.610729          0.431690   31.992863   \n",
       "pymc_blackjax_9215             19.443444          0.447207   27.115284   \n",
       "pymc_default_9215             136.990686          1.067503   14.742722   \n",
       "pymc_numpyro_19551             28.465453          0.849780   12.439850   \n",
       "pymc_blackjax_19551            25.241754          0.824897   11.975500   \n",
       "numpyro_default_19551          47.288285          0.718682   11.365532   \n",
       "pymc_default_19551            184.671398          1.825599    6.158262   \n",
       "pymc_blackjax_32337            33.838134          1.392050    5.217473   \n",
       "numpyro_default_32337          65.975400          1.140603    4.343710   \n",
       "pymc_numpyro_32337             37.294078          1.439026    4.063952   \n",
       "pymc_default_32337            253.338613          2.914619    3.002542   \n",
       "numpyro_default_60363         108.334430          2.382603    2.054007   \n",
       "pymc_blackjax_60363            53.050502          2.654208    1.961175   \n",
       "pymc_numpyro_60363             57.284453          2.884671    1.500125   \n",
       "pymc_default_60363            407.742393          5.139979    1.397464   \n",
       "numpyro_default_93549         157.353861          3.393236    1.939466   \n",
       "pymc_blackjax_93549            82.131492          3.219096    1.004915   \n",
       "pymc_numpyro_93549             81.582386          6.148222    0.803758   \n",
       "pymc_default_93549            596.815296          7.994520    0.664176   \n",
       "pymc_numpyro_126960           115.318214          6.013407    1.659478   \n",
       "numpyro_default_126960        229.598986          5.015811    1.047524   \n",
       "pymc_blackjax_126960          116.288880          4.815157    0.961450   \n",
       "pymc_default_126960           860.896215         10.955611    0.359181   \n",
       "pymc_blackjax_169073          190.496933          6.882096    0.930046   \n",
       "pymc_numpyro_169073           189.881370          8.166004    0.730310   \n",
       "numpyro_default_169073        378.391640          7.780298    0.681823   \n",
       "pymc_default_169073          1442.093116         21.436364    0.182056   \n",
       "\n",
       "                        ess_tail/s  rank  \n",
       "numpyro_default_6744     88.085321     1  \n",
       "pymc_numpyro_6744        83.385325     2  \n",
       "pymc_blackjax_6744       59.712217     3  \n",
       "pymc_default_6744        24.899015     4  \n",
       "numpyro_default_9215     54.096470     1  \n",
       "pymc_numpyro_9215        42.623227     2  \n",
       "pymc_blackjax_9215       52.585691     3  \n",
       "pymc_default_9215        26.526077     4  \n",
       "pymc_numpyro_19551       23.731637     1  \n",
       "pymc_blackjax_19551      28.306575     2  \n",
       "numpyro_default_19551    27.457682     3  \n",
       "pymc_default_19551       10.544485     4  \n",
       "pymc_blackjax_32337      10.236701     1  \n",
       "numpyro_default_32337    10.959112     2  \n",
       "pymc_numpyro_32337        9.045470     3  \n",
       "pymc_default_32337        5.643962     4  \n",
       "numpyro_default_60363     5.994843     1  \n",
       "pymc_blackjax_60363       3.899468     2  \n",
       "pymc_numpyro_60363        3.270159     3  \n",
       "pymc_default_60363        1.942291     4  \n",
       "numpyro_default_93549     3.389096     1  \n",
       "pymc_blackjax_93549       1.915652     2  \n",
       "pymc_numpyro_93549        1.653595     3  \n",
       "pymc_default_93549        1.728267     4  \n",
       "pymc_numpyro_126960       3.076459     1  \n",
       "numpyro_default_126960    2.309364     2  \n",
       "pymc_blackjax_126960      2.485208     3  \n",
       "pymc_default_126960       0.865614     4  \n",
       "pymc_blackjax_169073      1.508746     1  \n",
       "pymc_numpyro_169073       1.224589     2  \n",
       "numpyro_default_169073    1.311004     3  \n",
       "pymc_default_169073       0.597894     4  "
      ]
     },
     "execution_count": 16,
     "metadata": {},
     "output_type": "execute_result"
    }
   ],
   "source": [
    "summary = results.drop(columns=[\"current_memory\", \"peak_memory\"])\n",
    "summary[\"rank\"] = summary.sort_values([\"size\", \"ess_mean/s\"], ascending=[True, False]) \\\n",
    "            .groupby(['size']) \\\n",
    "            .cumcount() + 1\n",
    "summary.sort_values([\"size\", \"rank\"])"
   ]
  },
  {
   "attachments": {},
   "cell_type": "markdown",
   "metadata": {},
   "source": [
    "Let's see the best options in each data size:"
   ]
  },
  {
   "cell_type": "code",
   "execution_count": 17,
   "metadata": {},
   "outputs": [
    {
     "data": {
      "text/html": [
       "<div>\n",
       "<style scoped>\n",
       "    .dataframe tbody tr th:only-of-type {\n",
       "        vertical-align: middle;\n",
       "    }\n",
       "\n",
       "    .dataframe tbody tr th {\n",
       "        vertical-align: top;\n",
       "    }\n",
       "\n",
       "    .dataframe thead th {\n",
       "        text-align: right;\n",
       "    }\n",
       "</style>\n",
       "<table border=\"1\" class=\"dataframe\">\n",
       "  <thead>\n",
       "    <tr style=\"text-align: right;\">\n",
       "      <th></th>\n",
       "      <th>library</th>\n",
       "      <th>sampler</th>\n",
       "      <th>size</th>\n",
       "      <th>elapsed_time</th>\n",
       "      <th>Peak Memory (MB)</th>\n",
       "      <th>Elapsed time (m)</th>\n",
       "      <th>ess_mean/s</th>\n",
       "      <th>ess_tail/s</th>\n",
       "      <th>rank</th>\n",
       "    </tr>\n",
       "  </thead>\n",
       "  <tbody>\n",
       "    <tr>\n",
       "      <th>numpyro_default_6744</th>\n",
       "      <td>numpyro</td>\n",
       "      <td>default</td>\n",
       "      <td>6744.0</td>\n",
       "      <td>18.516138</td>\n",
       "      <td>30.602727</td>\n",
       "      <td>0.308602</td>\n",
       "      <td>46.511912</td>\n",
       "      <td>88.085321</td>\n",
       "      <td>1</td>\n",
       "    </tr>\n",
       "    <tr>\n",
       "      <th>numpyro_default_9215</th>\n",
       "      <td>numpyro</td>\n",
       "      <td>default</td>\n",
       "      <td>9215.0</td>\n",
       "      <td>22.478361</td>\n",
       "      <td>34.070506</td>\n",
       "      <td>0.374639</td>\n",
       "      <td>33.292507</td>\n",
       "      <td>54.096470</td>\n",
       "      <td>1</td>\n",
       "    </tr>\n",
       "    <tr>\n",
       "      <th>pymc_numpyro_19551</th>\n",
       "      <td>pymc</td>\n",
       "      <td>numpyro</td>\n",
       "      <td>19551.0</td>\n",
       "      <td>50.986790</td>\n",
       "      <td>28.465453</td>\n",
       "      <td>0.849780</td>\n",
       "      <td>12.439850</td>\n",
       "      <td>23.731637</td>\n",
       "      <td>1</td>\n",
       "    </tr>\n",
       "    <tr>\n",
       "      <th>pymc_blackjax_32337</th>\n",
       "      <td>pymc</td>\n",
       "      <td>blackjax</td>\n",
       "      <td>32337.0</td>\n",
       "      <td>83.523002</td>\n",
       "      <td>33.838134</td>\n",
       "      <td>1.392050</td>\n",
       "      <td>5.217473</td>\n",
       "      <td>10.236701</td>\n",
       "      <td>1</td>\n",
       "    </tr>\n",
       "    <tr>\n",
       "      <th>numpyro_default_60363</th>\n",
       "      <td>numpyro</td>\n",
       "      <td>default</td>\n",
       "      <td>60363.0</td>\n",
       "      <td>142.956207</td>\n",
       "      <td>108.334430</td>\n",
       "      <td>2.382603</td>\n",
       "      <td>2.054007</td>\n",
       "      <td>5.994843</td>\n",
       "      <td>1</td>\n",
       "    </tr>\n",
       "    <tr>\n",
       "      <th>numpyro_default_93549</th>\n",
       "      <td>numpyro</td>\n",
       "      <td>default</td>\n",
       "      <td>93549.0</td>\n",
       "      <td>203.594136</td>\n",
       "      <td>157.353861</td>\n",
       "      <td>3.393236</td>\n",
       "      <td>1.939466</td>\n",
       "      <td>3.389096</td>\n",
       "      <td>1</td>\n",
       "    </tr>\n",
       "    <tr>\n",
       "      <th>pymc_numpyro_126960</th>\n",
       "      <td>pymc</td>\n",
       "      <td>numpyro</td>\n",
       "      <td>126960.0</td>\n",
       "      <td>360.804403</td>\n",
       "      <td>115.318214</td>\n",
       "      <td>6.013407</td>\n",
       "      <td>1.659478</td>\n",
       "      <td>3.076459</td>\n",
       "      <td>1</td>\n",
       "    </tr>\n",
       "    <tr>\n",
       "      <th>pymc_blackjax_169073</th>\n",
       "      <td>pymc</td>\n",
       "      <td>blackjax</td>\n",
       "      <td>169073.0</td>\n",
       "      <td>412.925771</td>\n",
       "      <td>190.496933</td>\n",
       "      <td>6.882096</td>\n",
       "      <td>0.930046</td>\n",
       "      <td>1.508746</td>\n",
       "      <td>1</td>\n",
       "    </tr>\n",
       "  </tbody>\n",
       "</table>\n",
       "</div>"
      ],
      "text/plain": [
       "                       library   sampler      size  elapsed_time  \\\n",
       "numpyro_default_6744   numpyro   default    6744.0     18.516138   \n",
       "numpyro_default_9215   numpyro   default    9215.0     22.478361   \n",
       "pymc_numpyro_19551        pymc   numpyro   19551.0     50.986790   \n",
       "pymc_blackjax_32337       pymc  blackjax   32337.0     83.523002   \n",
       "numpyro_default_60363  numpyro   default   60363.0    142.956207   \n",
       "numpyro_default_93549  numpyro   default   93549.0    203.594136   \n",
       "pymc_numpyro_126960       pymc   numpyro  126960.0    360.804403   \n",
       "pymc_blackjax_169073      pymc  blackjax  169073.0    412.925771   \n",
       "\n",
       "                       Peak Memory (MB)  Elapsed time (m)  ess_mean/s  \\\n",
       "numpyro_default_6744          30.602727          0.308602   46.511912   \n",
       "numpyro_default_9215          34.070506          0.374639   33.292507   \n",
       "pymc_numpyro_19551            28.465453          0.849780   12.439850   \n",
       "pymc_blackjax_32337           33.838134          1.392050    5.217473   \n",
       "numpyro_default_60363        108.334430          2.382603    2.054007   \n",
       "numpyro_default_93549        157.353861          3.393236    1.939466   \n",
       "pymc_numpyro_126960          115.318214          6.013407    1.659478   \n",
       "pymc_blackjax_169073         190.496933          6.882096    0.930046   \n",
       "\n",
       "                       ess_tail/s  rank  \n",
       "numpyro_default_6744    88.085321     1  \n",
       "numpyro_default_9215    54.096470     1  \n",
       "pymc_numpyro_19551      23.731637     1  \n",
       "pymc_blackjax_32337     10.236701     1  \n",
       "numpyro_default_60363    5.994843     1  \n",
       "numpyro_default_93549    3.389096     1  \n",
       "pymc_numpyro_126960      3.076459     1  \n",
       "pymc_blackjax_169073     1.508746     1  "
      ]
     },
     "execution_count": 17,
     "metadata": {},
     "output_type": "execute_result"
    }
   ],
   "source": [
    "summary.query(\"rank == 1\").sort_values(\"size\")"
   ]
  },
  {
   "attachments": {},
   "cell_type": "markdown",
   "metadata": {},
   "source": [
    "## Results \n",
    "\n",
    "Let's visualize the tennis player skill estimates, as done in the original post. See *Addendum 1*."
   ]
  },
  {
   "cell_type": "code",
   "execution_count": 18,
   "metadata": {},
   "outputs": [],
   "source": [
    "key = \"pymc_blackjax_169073\"\n",
    "_, players_map = (pd.concat([data[\"winner_name\"], data[\"loser_name\"]])).factorize()\n",
    "mean_skill = infer_data[\"pymc_blackjax_169073\"].posterior['player_skills'].mean(dim=('chain', 'draw'))\n",
    "sd_skill = infer_data[\"pymc_blackjax_169073\"].posterior['player_skills'].std(dim=('chain', 'draw'))\n",
    "tennis = pd.DataFrame({'mean_skill': mean_skill, 'sd_skill': sd_skill}, index=players_map) \\\n",
    "    .       sort_values('mean_skill', ascending=False)"
   ]
  },
  {
   "cell_type": "code",
   "execution_count": 19,
   "metadata": {},
   "outputs": [
    {
     "data": {
      "text/html": [
       "<div>\n",
       "<style scoped>\n",
       "    .dataframe tbody tr th:only-of-type {\n",
       "        vertical-align: middle;\n",
       "    }\n",
       "\n",
       "    .dataframe tbody tr th {\n",
       "        vertical-align: top;\n",
       "    }\n",
       "\n",
       "    .dataframe thead th {\n",
       "        text-align: right;\n",
       "    }\n",
       "</style>\n",
       "<table border=\"1\" class=\"dataframe\">\n",
       "  <thead>\n",
       "    <tr style=\"text-align: right;\">\n",
       "      <th></th>\n",
       "      <th>mean_skill</th>\n",
       "      <th>sd_skill</th>\n",
       "    </tr>\n",
       "  </thead>\n",
       "  <tbody>\n",
       "    <tr>\n",
       "      <th>Novak Djokovic</th>\n",
       "      <td>3.596984</td>\n",
       "      <td>0.091834</td>\n",
       "    </tr>\n",
       "    <tr>\n",
       "      <th>Rafael Nadal</th>\n",
       "      <td>3.456043</td>\n",
       "      <td>0.086376</td>\n",
       "    </tr>\n",
       "    <tr>\n",
       "      <th>Bjorn Borg</th>\n",
       "      <td>3.417285</td>\n",
       "      <td>0.105153</td>\n",
       "    </tr>\n",
       "    <tr>\n",
       "      <th>Roger Federer</th>\n",
       "      <td>3.377035</td>\n",
       "      <td>0.077224</td>\n",
       "    </tr>\n",
       "    <tr>\n",
       "      <th>Ivan Lendl</th>\n",
       "      <td>3.354090</td>\n",
       "      <td>0.083736</td>\n",
       "    </tr>\n",
       "    <tr>\n",
       "      <th>Jimmy Connors</th>\n",
       "      <td>3.331115</td>\n",
       "      <td>0.074757</td>\n",
       "    </tr>\n",
       "    <tr>\n",
       "      <th>John McEnroe</th>\n",
       "      <td>3.327619</td>\n",
       "      <td>0.090356</td>\n",
       "    </tr>\n",
       "    <tr>\n",
       "      <th>Rod Laver</th>\n",
       "      <td>3.296383</td>\n",
       "      <td>0.102233</td>\n",
       "    </tr>\n",
       "    <tr>\n",
       "      <th>Pete Sampras</th>\n",
       "      <td>3.012004</td>\n",
       "      <td>0.085432</td>\n",
       "    </tr>\n",
       "    <tr>\n",
       "      <th>Boris Becker</th>\n",
       "      <td>2.934064</td>\n",
       "      <td>0.089372</td>\n",
       "    </tr>\n",
       "    <tr>\n",
       "      <th>Arthur Ashe</th>\n",
       "      <td>2.855705</td>\n",
       "      <td>0.083787</td>\n",
       "    </tr>\n",
       "    <tr>\n",
       "      <th>Andre Agassi</th>\n",
       "      <td>2.855343</td>\n",
       "      <td>0.079218</td>\n",
       "    </tr>\n",
       "    <tr>\n",
       "      <th>Andy Murray</th>\n",
       "      <td>2.854733</td>\n",
       "      <td>0.089392</td>\n",
       "    </tr>\n",
       "    <tr>\n",
       "      <th>Stefan Edberg</th>\n",
       "      <td>2.839265</td>\n",
       "      <td>0.082891</td>\n",
       "    </tr>\n",
       "    <tr>\n",
       "      <th>Ken Rosewall</th>\n",
       "      <td>2.822715</td>\n",
       "      <td>0.094671</td>\n",
       "    </tr>\n",
       "    <tr>\n",
       "      <th>Andy Roddick</th>\n",
       "      <td>2.756879</td>\n",
       "      <td>0.093384</td>\n",
       "    </tr>\n",
       "    <tr>\n",
       "      <th>Guillermo Vilas</th>\n",
       "      <td>2.740653</td>\n",
       "      <td>0.080621</td>\n",
       "    </tr>\n",
       "    <tr>\n",
       "      <th>Juan Martin del Potro</th>\n",
       "      <td>2.724821</td>\n",
       "      <td>0.104505</td>\n",
       "    </tr>\n",
       "    <tr>\n",
       "      <th>John Newcombe</th>\n",
       "      <td>2.687294</td>\n",
       "      <td>0.092083</td>\n",
       "    </tr>\n",
       "    <tr>\n",
       "      <th>Tom Okker</th>\n",
       "      <td>2.608877</td>\n",
       "      <td>0.082855</td>\n",
       "    </tr>\n",
       "  </tbody>\n",
       "</table>\n",
       "</div>"
      ],
      "text/plain": [
       "                       mean_skill  sd_skill\n",
       "Novak Djokovic           3.596984  0.091834\n",
       "Rafael Nadal             3.456043  0.086376\n",
       "Bjorn Borg               3.417285  0.105153\n",
       "Roger Federer            3.377035  0.077224\n",
       "Ivan Lendl               3.354090  0.083736\n",
       "Jimmy Connors            3.331115  0.074757\n",
       "John McEnroe             3.327619  0.090356\n",
       "Rod Laver                3.296383  0.102233\n",
       "Pete Sampras             3.012004  0.085432\n",
       "Boris Becker             2.934064  0.089372\n",
       "Arthur Ashe              2.855705  0.083787\n",
       "Andre Agassi             2.855343  0.079218\n",
       "Andy Murray              2.854733  0.089392\n",
       "Stefan Edberg            2.839265  0.082891\n",
       "Ken Rosewall             2.822715  0.094671\n",
       "Andy Roddick             2.756879  0.093384\n",
       "Guillermo Vilas          2.740653  0.080621\n",
       "Juan Martin del Potro    2.724821  0.104505\n",
       "John Newcombe            2.687294  0.092083\n",
       "Tom Okker                2.608877  0.082855"
      ]
     },
     "execution_count": 19,
     "metadata": {},
     "output_type": "execute_result"
    }
   ],
   "source": [
    "tennis.head(20)"
   ]
  }
 ],
 "metadata": {
  "kernelspec": {
   "display_name": "sbm",
   "language": "python",
   "name": "python3"
  },
  "language_info": {
   "codemirror_mode": {
    "name": "ipython",
    "version": 3
   },
   "file_extension": ".py",
   "mimetype": "text/x-python",
   "name": "python",
   "nbconvert_exporter": "python",
   "pygments_lexer": "ipython3",
   "version": "3.11.0"
  },
  "orig_nbformat": 4,
  "vscode": {
   "interpreter": {
    "hash": "616692cf73cdbe2b85117ee01c3e807250ddb7cb8b880d6f64d7932c9d34e3f2"
   }
  }
 },
 "nbformat": 4,
 "nbformat_minor": 2
}
