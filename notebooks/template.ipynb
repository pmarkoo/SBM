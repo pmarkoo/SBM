{
 "cells": [
  {
   "attachments": {},
   "cell_type": "markdown",
   "metadata": {},
   "source": [
    "# Scalable Bayesian Modeling\n",
    "\n",
    "[![Open in Colab](https://colab.research.google.com/assets/colab-badge.svg)](https://colab.research.google.com/github/symeneses/SBM/blob/main/notebooks/template.ipynb)"
   ]
  },
  {
   "cell_type": "code",
   "execution_count": null,
   "metadata": {},
   "outputs": [],
   "source": [
    "# Execute only if executing in Google Colab\n",
    "# !rm -r ./src\n",
    "# !git clone https://github.com/symeneses/SBM\n",
    "# !mv ./SBM/src ./src\n",
    "# !rm -r ./SBM\n",
    "# !pip install numpyro"
   ]
  },
  {
   "cell_type": "code",
   "execution_count": 1,
   "metadata": {},
   "outputs": [],
   "source": [
    "%load_ext autoreload\n",
    "%autoreload 2\n",
    "\n",
    "import os\n",
    "import sys\n",
    "\n",
    "cores = os.cpu_count()\n",
    "os.environ[\"XLA_FLAGS\"] = f'--xla_force_host_platform_device_count={cores}'\n",
    "root_path = os.path.abspath(os.pardir)\n",
    "if root_path not in sys.path:\n",
    "    sys.path.append(root_path)"
   ]
  },
  {
   "attachments": {},
   "cell_type": "markdown",
   "metadata": {},
   "source": [
    "## Importing the needed libraries"
   ]
  },
  {
   "cell_type": "code",
   "execution_count": 2,
   "metadata": {},
   "outputs": [
    {
     "name": "stderr",
     "output_type": "stream",
     "text": [
      "/opt/homebrew/Caskroom/miniconda/base/envs/sbm/lib/python3.11/site-packages/tqdm/auto.py:22: TqdmWarning: IProgress not found. Please update jupyter and ipywidgets. See https://ipywidgets.readthedocs.io/en/stable/user_install.html\n",
      "  from .autonotebook import tqdm as notebook_tqdm\n",
      "/opt/homebrew/Caskroom/miniconda/base/envs/sbm/lib/python3.11/site-packages/pymc/sampling/jax.py:39: UserWarning: This module is experimental.\n",
      "  warnings.warn(\"This module is experimental.\")\n"
     ]
    }
   ],
   "source": [
    "import pandas as pd\n",
    "import numpy as np\n",
    "import numpyro\n",
    "import pymc as pm\n",
    "\n",
    "from src.handler import Handler\n",
    "from src.diagnostics import dist_validator\n",
    "from src.plots import plot_ess_ps\n",
    "\n",
    "RANDOM_SEED = 8957\n"
   ]
  },
  {
   "attachments": {},
   "cell_type": "markdown",
   "metadata": {},
   "source": [
    "## Getting the data\n",
    "\n",
    "Create a Pandas [DataFrame](https://pandas.pydata.org/docs/reference/api/pandas.DataFrame.html) with the variables to be used to define the model."
   ]
  },
  {
   "cell_type": "code",
   "execution_count": 3,
   "metadata": {},
   "outputs": [],
   "source": [
    "# Code to generate the data, name the final results as data\n",
    "data = pd.read_csv(\n",
    "    \"https://gist.githubusercontent.com/ucals/\"\n",
    "    \"2cf9d101992cb1b78c2cdd6e3bac6a4b/raw/\"\n",
    "    \"43034c39052dcf97d4b894d2ec1bc3f90f3623d9/\"\n",
    "    \"osic_pulmonary_fibrosis.csv\"\n",
    ")\n",
    "data[\"patient_codes\"], _ = data[\"Patient\"].factorize()"
   ]
  },
  {
   "attachments": {},
   "cell_type": "markdown",
   "metadata": {},
   "source": [
    "## Defining the model\n",
    "\n",
    "In the following cells, write the code for the models you want to compare. To make comparing the models and results easier, use the same name of variables in each version of the model.\n",
    "\n",
    "**For models in Numpyro:** Use the same variable names of the `DataFrame` `data` for the arguments of the function model. These arguments should contain only columns present in `data`."
   ]
  },
  {
   "cell_type": "code",
   "execution_count": 4,
   "metadata": {},
   "outputs": [],
   "source": [
    "patient_codes = data['patient_codes'].values\n",
    "codes = np.unique(patient_codes)\n",
    "coords = {\"patients\": codes}\n",
    "weeks = data['Weeks']\n",
    "FVC_obs = data['FVC']\n",
    "with pm.Model(coords=coords) as pymc_model:\n",
    "\n",
    "    mu_alpha = pm.Normal(\"μ_α\", mu=0.0, sigma=500.0)\n",
    "    sigma_alpha = pm.HalfNormal(\"σ_α\", sigma=100.0)\n",
    "    mu_beta = pm.Normal(\"μ_β\", mu=0.0, sigma=3.0)\n",
    "    sigma_beta = pm.HalfNormal(\"σ_β\", sigma=3.0)\n",
    "\n",
    "    alpha = pm.Normal(\"α\", mu=mu_alpha, sigma=sigma_alpha, dims=\"patients\")\n",
    "    beta = pm.Normal(\"β\", mu=mu_beta, sigma=sigma_beta, dims=\"patients\")\n",
    "\n",
    "    sigma = pm.HalfNormal(\"σ\", sigma=100.0)\n",
    "\n",
    "    FVC_est = alpha[data['patient_codes']] + beta[data['patient_codes']] * weeks\n",
    "\n",
    "    y = pm.Normal(\"y\", mu=FVC_est, sigma=sigma, observed=FVC_obs)\n"
   ]
  },
  {
   "cell_type": "code",
   "execution_count": 5,
   "metadata": {},
   "outputs": [],
   "source": [
    "import numpyro.distributions as dist\n",
    "from numpyro.infer import MCMC, NUTS\n",
    "\n",
    "\n",
    "def model(patient_codes, Weeks, FVC=None):\n",
    "    μ_α = numpyro.sample(\"μ_α\", dist.Normal(0.0, 500.0))\n",
    "    σ_α = numpyro.sample(\"σ_α\", dist.HalfNormal(100.0))\n",
    "    μ_β = numpyro.sample(\"μ_β\", dist.Normal(0.0, 3.0))\n",
    "    σ_β = numpyro.sample(\"σ_β\", dist.HalfNormal(3.0))\n",
    "\n",
    "    n_patients = len(np.unique(patient_codes))\n",
    "\n",
    "    with numpyro.plate(\"plate_i\", n_patients):\n",
    "        α = numpyro.sample(\"α\", dist.Normal(μ_α, σ_α))\n",
    "        β = numpyro.sample(\"β\", dist.Normal(μ_β, σ_β))\n",
    "\n",
    "    σ = numpyro.sample(\"σ\", dist.HalfNormal(100.0))\n",
    "    FVC_est = α[patient_codes] + β[patient_codes] * Weeks\n",
    "\n",
    "    with numpyro.plate(\"data\", len(patient_codes)):\n",
    "        numpyro.sample(\"obs\", dist.Normal(FVC_est, σ), obs=FVC)\n",
    "\n",
    "numpyro_kernel = NUTS(model)"
   ]
  },
  {
   "attachments": {},
   "cell_type": "markdown",
   "metadata": {},
   "source": [
    "## Inference\n",
    "Here, we will create create valid [InferenceData](https://python.arviz.org/en/latest/api/generated/arviz.InferenceData.html) objects and a set of metrics to measure performance  for the selected models and samplers."
   ]
  },
  {
   "cell_type": "code",
   "execution_count": 6,
   "metadata": {},
   "outputs": [
    {
     "name": "stdout",
     "output_type": "stream",
     "text": [
      "Getting samples using libray pymc:\n",
      "\n",
      "\n",
      "> Getting samples using the PYMC sampler default\n"
     ]
    },
    {
     "name": "stderr",
     "output_type": "stream",
     "text": [
      "Auto-assigning NUTS sampler...\n",
      "Initializing NUTS using jitter+adapt_diag...\n",
      "Multiprocess sampling (2 chains in 2 jobs)\n",
      "NUTS: [μ_α, σ_α, μ_β, σ_β, α, β, σ]\n",
      "Sampling 2 chains for 2_000 tune and 2_000 draw iterations (4_000 + 4_000 draws total) took 132 seconds.\n"
     ]
    },
    {
     "name": "stdout",
     "output_type": "stream",
     "text": [
      "\n",
      "> Getting samples using the PYMC sampler numpyro\n",
      "Compiling...\n",
      "Compilation time =  0:00:08.107708\n",
      "Sampling...\n"
     ]
    },
    {
     "name": "stderr",
     "output_type": "stream",
     "text": [
      "Running chain 0: 100%|██████████| 4000/4000 [00:53<00:00, 74.89it/s] \n",
      "Running chain 1: 100%|██████████| 4000/4000 [00:53<00:00, 74.90it/s] \n"
     ]
    },
    {
     "name": "stdout",
     "output_type": "stream",
     "text": [
      "Sampling time =  0:00:55.686306\n",
      "Transforming variables...\n",
      "Transformation time =  0:00:00.099396\n",
      "\n",
      "> Getting samples using the PYMC sampler blackjax\n",
      "Compiling...\n",
      "Compilation time =  0:00:07.170961\n",
      "Sampling...\n",
      "Sampling time =  0:00:18.300695\n",
      "Transforming variables...\n",
      "Transformation time =  0:00:47.040649\n",
      "Getting samples using libray numpyro:\n",
      "\n"
     ]
    },
    {
     "name": "stderr",
     "output_type": "stream",
     "text": [
      "Running chain 0: 100%|██████████| 4000/4000 [00:29<00:00, 133.94it/s]\n",
      "Running chain 1: 100%|██████████| 4000/4000 [00:29<00:00, 133.96it/s]\n"
     ]
    }
   ],
   "source": [
    "models = {\"pymc\": pymc_model, \"numpyro\": numpyro_kernel}\n",
    "pymc_samplers = [\"default\", \"numpyro\", \"blackjax\"]\n",
    "draws = 2000\n",
    "tune = 2000\n",
    "# It's recommended to use between 2 and 4 chains\n",
    "chains = 2\n",
    "\n",
    "# sampling all models\n",
    "handler = Handler(models, data, pymc_samplers)\n",
    "infer_data, results = handler.execute(draws, tune, chains, RANDOM_SEED)"
   ]
  },
  {
   "attachments": {},
   "cell_type": "markdown",
   "metadata": {},
   "source": [
    "## Validate results \n",
    "\n",
    "To check that the models are sampling from the same distributions. The function `dist_validator` will estimate the ranges of the mean for each variable using the [MCSE](https://python.arviz.org/en/latest/api/generated/arviz.mcse.html) of one of the models as reference. The percentages displayed indicate how many variables are within the calculated range using ±3 sigma.\n",
    "The values should be in theory greater or equal to `95%` following a weaker [three-sigma rule](https://en.wikipedia.org/wiki/68%E2%80%9395%E2%80%9399.7_rule)."
   ]
  },
  {
   "cell_type": "code",
   "execution_count": 7,
   "metadata": {},
   "outputs": [
    {
     "name": "stdout",
     "output_type": "stream",
     "text": [
      "Percentage of variables with the expected mean using MCSE:\n",
      "> pymc_default    :  95.52% using pymc_numpyro as a random reference ✅\n",
      "> pymc_numpyro    : 100.00% using pymc_numpyro as a random reference ✅\n",
      "> pymc_blackjax   :  11.48% using pymc_numpyro as a random reference ❌\n",
      "> numpyro_default :  96.64% using pymc_numpyro as a random reference ✅\n"
     ]
    }
   ],
   "source": [
    "results_val, summaries = dist_validator(infer_data, seed=RANDOM_SEED)"
   ]
  },
  {
   "attachments": {},
   "cell_type": "markdown",
   "metadata": {},
   "source": [
    "## Comparison"
   ]
  },
  {
   "attachments": {},
   "cell_type": "markdown",
   "metadata": {},
   "source": [
    "### Resources metrics"
   ]
  },
  {
   "cell_type": "code",
   "execution_count": 8,
   "metadata": {},
   "outputs": [
    {
     "data": {
      "text/html": [
       "<div>\n",
       "<style scoped>\n",
       "    .dataframe tbody tr th:only-of-type {\n",
       "        vertical-align: middle;\n",
       "    }\n",
       "\n",
       "    .dataframe tbody tr th {\n",
       "        vertical-align: top;\n",
       "    }\n",
       "\n",
       "    .dataframe thead th {\n",
       "        text-align: right;\n",
       "    }\n",
       "</style>\n",
       "<table border=\"1\" class=\"dataframe\">\n",
       "  <thead>\n",
       "    <tr style=\"text-align: right;\">\n",
       "      <th></th>\n",
       "      <th>library</th>\n",
       "      <th>sampler</th>\n",
       "      <th>elapsed_time</th>\n",
       "      <th>current_memory</th>\n",
       "      <th>peak_memory</th>\n",
       "    </tr>\n",
       "  </thead>\n",
       "  <tbody>\n",
       "    <tr>\n",
       "      <th>pymc_default</th>\n",
       "      <td>pymc</td>\n",
       "      <td>default</td>\n",
       "      <td>157.737284</td>\n",
       "      <td>38150875.0</td>\n",
       "      <td>63188437.0</td>\n",
       "    </tr>\n",
       "    <tr>\n",
       "      <th>pymc_numpyro</th>\n",
       "      <td>pymc</td>\n",
       "      <td>numpyro</td>\n",
       "      <td>64.062304</td>\n",
       "      <td>16994505.0</td>\n",
       "      <td>17152158.0</td>\n",
       "    </tr>\n",
       "    <tr>\n",
       "      <th>pymc_blackjax</th>\n",
       "      <td>pymc</td>\n",
       "      <td>blackjax</td>\n",
       "      <td>73.090621</td>\n",
       "      <td>19339463.0</td>\n",
       "      <td>19596942.0</td>\n",
       "    </tr>\n",
       "    <tr>\n",
       "      <th>numpyro_default</th>\n",
       "      <td>numpyro</td>\n",
       "      <td>default</td>\n",
       "      <td>32.990811</td>\n",
       "      <td>15754089.0</td>\n",
       "      <td>15851545.0</td>\n",
       "    </tr>\n",
       "  </tbody>\n",
       "</table>\n",
       "</div>"
      ],
      "text/plain": [
       "                 library   sampler  elapsed_time  current_memory  peak_memory\n",
       "pymc_default        pymc   default    157.737284      38150875.0   63188437.0\n",
       "pymc_numpyro        pymc   numpyro     64.062304      16994505.0   17152158.0\n",
       "pymc_blackjax       pymc  blackjax     73.090621      19339463.0   19596942.0\n",
       "numpyro_default  numpyro   default     32.990811      15754089.0   15851545.0"
      ]
     },
     "execution_count": 8,
     "metadata": {},
     "output_type": "execute_result"
    }
   ],
   "source": [
    "results"
   ]
  },
  {
   "attachments": {},
   "cell_type": "markdown",
   "metadata": {},
   "source": [
    "### ESS\n",
    "\n",
    "To determine the sampler performance, we use the **Effective Sample Size** ([ESS](https://python.arviz.org/en/latest/api/generated/arviz.ess.html])) calculated per second."
   ]
  },
  {
   "cell_type": "code",
   "execution_count": 9,
   "metadata": {},
   "outputs": [
    {
     "data": {
      "image/png": "[encoded data removed]",
      "text/plain": [
       "<Figure size 640x480 with 1 Axes>"
      ]
     },
     "metadata": {},
     "output_type": "display_data"
    }
   ],
   "source": [
    "plot_ess_ps(results, summaries)"
   ]
  }
 ],
 "metadata": {
  "kernelspec": {
   "display_name": "sbm",
   "language": "python",
   "name": "python3"
  },
  "language_info": {
   "codemirror_mode": {
    "name": "ipython",
    "version": 3
   },
   "file_extension": ".py",
   "mimetype": "text/x-python",
   "name": "python",
   "nbconvert_exporter": "python",
   "pygments_lexer": "ipython3",
   "version": "3.11.0"
  },
  "orig_nbformat": 4,
  "vscode": {
   "interpreter": {
    "hash": "616692cf73cdbe2b85117ee01c3e807250ddb7cb8b880d6f64d7932c9d34e3f2"
   }
  }
 },
 "nbformat": 4,
 "nbformat_minor": 2
}
